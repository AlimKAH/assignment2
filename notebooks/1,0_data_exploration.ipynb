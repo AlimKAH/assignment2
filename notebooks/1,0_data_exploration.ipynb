{
 "cells": [
  {
   "cell_type": "markdown",
   "metadata": {},
   "source": [
    "# Assignment 2\n",
    "*Email: l.kayirly@innopolis.university | Name: Alimzhan Kaiyrly | Group: B20-DS*\n",
    "\n",
    "-------------------------------------------------------------------------------------\n",
    "\n",
    "Data preprocessing and initial exploration\n",
    "\n",
    "1. Preprocessing the data from MovieLens-100k dataset. Converting from original format to 3 dataframes: movies, ratings, users\n",
    "\n",
    "###### | Script from the following github repo was used: https://github.com/Blosc/movielens-bench/blob/master/process-100k.py |"
   ]
  },
  {
   "cell_type": "code",
   "execution_count": 91,
   "metadata": {},
   "outputs": [
    {
     "name": "stderr",
     "output_type": "stream",
     "text": [
      "c:\\Users\\User\\AppData\\Local\\Programs\\Python\\Python310\\lib\\site-packages\\fuzzywuzzy\\fuzz.py:11: UserWarning: Using slow pure-python SequenceMatcher. Install python-Levenshtein to remove this warning\n",
      "  warnings.warn('Using slow pure-python SequenceMatcher. Install python-Levenshtein to remove this warning')\n"
     ]
    }
   ],
   "source": [
    "from time import time\n",
    "import os.path\n",
    "import numpy as np\n",
    "import bcolz\n",
    "import pandas as pd\n",
    "\n",
    "import matplotlib.pyplot as plt\n",
    "import seaborn as sns\n",
    "\n",
    "from uszipcode import SearchEngine"
   ]
  },
  {
   "cell_type": "code",
   "execution_count": 10,
   "metadata": {},
   "outputs": [
    {
     "name": "stdout",
     "output_type": "stream",
     "text": [
      "-=-=-=-=-=-=-=-=-=-=-=-=-=-=-=-=-=-=-=-=-=-=-=-=-=-=-=-=-=-=-=-=-=-=-=-=-=-=\n",
      "bcolz version:     0.1.dev1\n",
      "NumPy version:     1.23.5\n",
      "Blosc version:     1.21.1.dev0 ($Date:: 2020-12-22 #$)\n",
      "Blosc compressors: ['blosclz', 'lz4', 'lz4hc', 'zlib', 'zstd']\n",
      "Numexpr version:   not available (version >= 2.5.2 not detected)\n",
      "Dask version:      not available (version >= 0.9.0 not detected)\n",
      "Python version:    3.10.4 (tags/v3.10.4:9d38120, Mar 23 2022, 23:13:41) [MSC v.1929 64 bit (AMD64)]\n",
      "Byte-ordering:     little\n",
      "Detected cores:    8\n",
      "-=-=-=-=-=-=-=-=-=-=-=-=-=-=-=-=-=-=-=-=-=-=-=-=-=-=-=-=-=-=-=-=-=-=-=-=-=-=\n",
      "Time for merging the datasets: 0.06\n",
      "time (and length) for simple query with pandas: 0.01 (12)\n",
      "time (and length) for complex query with pandas: 0.00 (1)\n",
      "time (and compress ratio) for ctable conversion: 6.83 (2.9x)\n",
      "time (and length) for simple query with bcolz: 1.69 (12)\n",
      "time (and length) for complex query with bcolz: 0.02 (1)\n"
     ]
    }
   ],
   "source": [
    "bcolz.print_versions()\n",
    "\n",
    "dset = '../data/raw/ml-100k'\n",
    "fuser = os.path.join(dset, 'u.user')\n",
    "fdata = os.path.join(dset, 'u.data')\n",
    "fitem = os.path.join(dset, 'u.item')\n",
    "\n",
    "bcolz.defaults.cparams['cname'] = 'lz4'\n",
    "bcolz.defaults.cparams['clevel'] = 1\n",
    "\n",
    "# pass in column names for each CSV\n",
    "u_cols = ['user_id', 'age', 'sex', 'occupation', 'zip_code']\n",
    "users = pd.read_csv(fuser, sep='|', names=u_cols)\n",
    "\n",
    "r_cols = ['user_id', 'movie_id', 'rating', 'unix_timestamp']\n",
    "ratings = pd.read_csv(fdata, sep='\\t', names=r_cols)\n",
    "\n",
    "# the movies file contains columns indicating the movie's genres\n",
    "# let's only load the first five columns of the file with usecols\n",
    "m_cols = ['movie_id', 'title', 'release_date', 'video_release_date', 'imdb_url']\n",
    "movies = pd.read_csv(fitem, sep='|', names=m_cols, usecols=range(5),\n",
    "                     dtype={'release_date': \"S100\", 'imdb_url': \"S200\"}, encoding='latin-1')\n",
    "\n",
    "t0 = time()\n",
    "# create one merged DataFrame\n",
    "movie_ratings = pd.merge(movies, ratings)\n",
    "lens = pd.merge(movie_ratings, users)\n",
    "print(\"Time for merging the datasets: %.2f\" % (time()-t0,)) \n",
    "\n",
    "\n",
    "t0 = time()\n",
    "result = lens.query(\"title == 'Tom and Huck (1995)'\")\n",
    "print(\"time (and length) for simple query with pandas: %.2f (%d)\" %\n",
    "      (time()-t0, len(result)))\n",
    "\n",
    "t0 = time()\n",
    "result = lens.query(\"(title == 'Tom and Huck (1995)') & (rating == 5)\")['user_id']\n",
    "print(\"time (and length) for complex query with pandas: %.2f (%d)\" %\n",
    "      (time()-t0, len(result)))\n",
    "\n",
    "\n",
    "t0 = time()\n",
    "zlens = bcolz.ctable.fromdataframe(lens)\n",
    "print(\"time (and compress ratio) for ctable conversion: %.2f (%.1fx)\" % \n",
    "      (time()-t0, zlens.nbytes / float(zlens.cbytes)))\n",
    "\n",
    "t0 = time()\n",
    "result = zlens[\"title == 'Tom and Huck (1995)'\"]\n",
    "print(\"time (and length) for simple query with bcolz: %.2f (%d)\" %\n",
    "      (time()-t0, len(result)))\n",
    "\n",
    "t0 = time()\n",
    "result = [r.user_id for r in zlens.where(\n",
    "    \"(title == 'Tom and Huck (1995)') & (rating == 5)\", outcols=['user_id'])]\n",
    "print(\"time (and length) for complex query with bcolz: %.2f (%d)\" %\n",
    "      (time()-t0, len(result)))"
   ]
  },
  {
   "cell_type": "code",
   "execution_count": 33,
   "metadata": {},
   "outputs": [
    {
     "data": {
      "text/html": [
       "<div>\n",
       "<style scoped>\n",
       "    .dataframe tbody tr th:only-of-type {\n",
       "        vertical-align: middle;\n",
       "    }\n",
       "\n",
       "    .dataframe tbody tr th {\n",
       "        vertical-align: top;\n",
       "    }\n",
       "\n",
       "    .dataframe thead th {\n",
       "        text-align: right;\n",
       "    }\n",
       "</style>\n",
       "<table border=\"1\" class=\"dataframe\">\n",
       "  <thead>\n",
       "    <tr style=\"text-align: right;\">\n",
       "      <th></th>\n",
       "      <th>user_id</th>\n",
       "      <th>age</th>\n",
       "      <th>sex</th>\n",
       "      <th>occupation</th>\n",
       "      <th>zip_code</th>\n",
       "      <th>age_group</th>\n",
       "    </tr>\n",
       "  </thead>\n",
       "  <tbody>\n",
       "    <tr>\n",
       "      <th>0</th>\n",
       "      <td>1</td>\n",
       "      <td>24</td>\n",
       "      <td>M</td>\n",
       "      <td>technician</td>\n",
       "      <td>85711</td>\n",
       "      <td>Young</td>\n",
       "    </tr>\n",
       "    <tr>\n",
       "      <th>1</th>\n",
       "      <td>2</td>\n",
       "      <td>53</td>\n",
       "      <td>F</td>\n",
       "      <td>other</td>\n",
       "      <td>94043</td>\n",
       "      <td>Midlife</td>\n",
       "    </tr>\n",
       "    <tr>\n",
       "      <th>2</th>\n",
       "      <td>3</td>\n",
       "      <td>23</td>\n",
       "      <td>M</td>\n",
       "      <td>writer</td>\n",
       "      <td>32067</td>\n",
       "      <td>Young</td>\n",
       "    </tr>\n",
       "    <tr>\n",
       "      <th>3</th>\n",
       "      <td>4</td>\n",
       "      <td>24</td>\n",
       "      <td>M</td>\n",
       "      <td>technician</td>\n",
       "      <td>43537</td>\n",
       "      <td>Young</td>\n",
       "    </tr>\n",
       "    <tr>\n",
       "      <th>4</th>\n",
       "      <td>5</td>\n",
       "      <td>33</td>\n",
       "      <td>F</td>\n",
       "      <td>other</td>\n",
       "      <td>15213</td>\n",
       "      <td>Young</td>\n",
       "    </tr>\n",
       "    <tr>\n",
       "      <th>...</th>\n",
       "      <td>...</td>\n",
       "      <td>...</td>\n",
       "      <td>...</td>\n",
       "      <td>...</td>\n",
       "      <td>...</td>\n",
       "      <td>...</td>\n",
       "    </tr>\n",
       "    <tr>\n",
       "      <th>938</th>\n",
       "      <td>939</td>\n",
       "      <td>26</td>\n",
       "      <td>F</td>\n",
       "      <td>student</td>\n",
       "      <td>33319</td>\n",
       "      <td>Young</td>\n",
       "    </tr>\n",
       "    <tr>\n",
       "      <th>939</th>\n",
       "      <td>940</td>\n",
       "      <td>32</td>\n",
       "      <td>M</td>\n",
       "      <td>administrator</td>\n",
       "      <td>02215</td>\n",
       "      <td>Young</td>\n",
       "    </tr>\n",
       "    <tr>\n",
       "      <th>940</th>\n",
       "      <td>941</td>\n",
       "      <td>20</td>\n",
       "      <td>M</td>\n",
       "      <td>student</td>\n",
       "      <td>97229</td>\n",
       "      <td>Young</td>\n",
       "    </tr>\n",
       "    <tr>\n",
       "      <th>941</th>\n",
       "      <td>942</td>\n",
       "      <td>48</td>\n",
       "      <td>F</td>\n",
       "      <td>librarian</td>\n",
       "      <td>78209</td>\n",
       "      <td>Midlife</td>\n",
       "    </tr>\n",
       "    <tr>\n",
       "      <th>942</th>\n",
       "      <td>943</td>\n",
       "      <td>22</td>\n",
       "      <td>M</td>\n",
       "      <td>student</td>\n",
       "      <td>77841</td>\n",
       "      <td>Young</td>\n",
       "    </tr>\n",
       "  </tbody>\n",
       "</table>\n",
       "<p>943 rows × 6 columns</p>\n",
       "</div>"
      ],
      "text/plain": [
       "     user_id  age sex     occupation zip_code age_group\n",
       "0          1   24   M     technician    85711     Young\n",
       "1          2   53   F          other    94043   Midlife\n",
       "2          3   23   M         writer    32067     Young\n",
       "3          4   24   M     technician    43537     Young\n",
       "4          5   33   F          other    15213     Young\n",
       "..       ...  ...  ..            ...      ...       ...\n",
       "938      939   26   F        student    33319     Young\n",
       "939      940   32   M  administrator    02215     Young\n",
       "940      941   20   M        student    97229     Young\n",
       "941      942   48   F      librarian    78209   Midlife\n",
       "942      943   22   M        student    77841     Young\n",
       "\n",
       "[943 rows x 6 columns]"
      ]
     },
     "execution_count": 33,
     "metadata": {},
     "output_type": "execute_result"
    }
   ],
   "source": [
    "users"
   ]
  },
  {
   "cell_type": "code",
   "execution_count": 17,
   "metadata": {},
   "outputs": [],
   "source": [
    "# Merge the dataframes into one\n",
    "movie_ratings = pd.merge(ratings, movies, on='movie_id')\n",
    "user_movie_ratings = pd.merge(movie_ratings, users, on='user_id')"
   ]
  },
  {
   "cell_type": "markdown",
   "metadata": {},
   "source": [
    "------------------------------------------------------\n",
    "\n",
    "##  2. Let's explore and preprocess resulting dataframe. \n",
    "Steps taken: \n",
    "* Check for null data\n",
    "* Drop columns\n",
    "\n",
    "-------------------------------------------------"
   ]
  },
  {
   "cell_type": "code",
   "execution_count": 19,
   "metadata": {},
   "outputs": [
    {
     "data": {
      "text/html": [
       "<div>\n",
       "<style scoped>\n",
       "    .dataframe tbody tr th:only-of-type {\n",
       "        vertical-align: middle;\n",
       "    }\n",
       "\n",
       "    .dataframe tbody tr th {\n",
       "        vertical-align: top;\n",
       "    }\n",
       "\n",
       "    .dataframe thead th {\n",
       "        text-align: right;\n",
       "    }\n",
       "</style>\n",
       "<table border=\"1\" class=\"dataframe\">\n",
       "  <thead>\n",
       "    <tr style=\"text-align: right;\">\n",
       "      <th></th>\n",
       "      <th>user_id</th>\n",
       "      <th>movie_id</th>\n",
       "      <th>rating</th>\n",
       "      <th>unix_timestamp</th>\n",
       "      <th>title</th>\n",
       "      <th>release_date</th>\n",
       "      <th>video_release_date</th>\n",
       "      <th>imdb_url</th>\n",
       "      <th>age</th>\n",
       "      <th>sex</th>\n",
       "      <th>occupation</th>\n",
       "      <th>zip_code</th>\n",
       "    </tr>\n",
       "  </thead>\n",
       "  <tbody>\n",
       "    <tr>\n",
       "      <th>0</th>\n",
       "      <td>196</td>\n",
       "      <td>242</td>\n",
       "      <td>3</td>\n",
       "      <td>881250949</td>\n",
       "      <td>Kolya (1996)</td>\n",
       "      <td>b'24-Jan-1997'</td>\n",
       "      <td>NaN</td>\n",
       "      <td>b'http://us.imdb.com/M/title-exact?Kolya%20(19...</td>\n",
       "      <td>49</td>\n",
       "      <td>M</td>\n",
       "      <td>writer</td>\n",
       "      <td>55105</td>\n",
       "    </tr>\n",
       "    <tr>\n",
       "      <th>1</th>\n",
       "      <td>196</td>\n",
       "      <td>257</td>\n",
       "      <td>2</td>\n",
       "      <td>881251577</td>\n",
       "      <td>Men in Black (1997)</td>\n",
       "      <td>b'04-Jul-1997'</td>\n",
       "      <td>NaN</td>\n",
       "      <td>b'http://us.imdb.com/M/title-exact?Men+in+Blac...</td>\n",
       "      <td>49</td>\n",
       "      <td>M</td>\n",
       "      <td>writer</td>\n",
       "      <td>55105</td>\n",
       "    </tr>\n",
       "    <tr>\n",
       "      <th>2</th>\n",
       "      <td>196</td>\n",
       "      <td>111</td>\n",
       "      <td>4</td>\n",
       "      <td>881251793</td>\n",
       "      <td>Truth About Cats &amp; Dogs, The (1996)</td>\n",
       "      <td>b'26-Apr-1996'</td>\n",
       "      <td>NaN</td>\n",
       "      <td>b'http://us.imdb.com/M/title-exact?Truth%20Abo...</td>\n",
       "      <td>49</td>\n",
       "      <td>M</td>\n",
       "      <td>writer</td>\n",
       "      <td>55105</td>\n",
       "    </tr>\n",
       "    <tr>\n",
       "      <th>3</th>\n",
       "      <td>196</td>\n",
       "      <td>25</td>\n",
       "      <td>4</td>\n",
       "      <td>881251955</td>\n",
       "      <td>Birdcage, The (1996)</td>\n",
       "      <td>b'08-Mar-1996'</td>\n",
       "      <td>NaN</td>\n",
       "      <td>b'http://us.imdb.com/M/title-exact?Birdcage,%2...</td>\n",
       "      <td>49</td>\n",
       "      <td>M</td>\n",
       "      <td>writer</td>\n",
       "      <td>55105</td>\n",
       "    </tr>\n",
       "    <tr>\n",
       "      <th>4</th>\n",
       "      <td>196</td>\n",
       "      <td>382</td>\n",
       "      <td>4</td>\n",
       "      <td>881251843</td>\n",
       "      <td>Adventures of Priscilla, Queen of the Desert, ...</td>\n",
       "      <td>b'01-Jan-1994'</td>\n",
       "      <td>NaN</td>\n",
       "      <td>b'http://us.imdb.com/M/title-exact?Adventures%...</td>\n",
       "      <td>49</td>\n",
       "      <td>M</td>\n",
       "      <td>writer</td>\n",
       "      <td>55105</td>\n",
       "    </tr>\n",
       "  </tbody>\n",
       "</table>\n",
       "</div>"
      ],
      "text/plain": [
       "   user_id  movie_id  rating  unix_timestamp  \\\n",
       "0      196       242       3       881250949   \n",
       "1      196       257       2       881251577   \n",
       "2      196       111       4       881251793   \n",
       "3      196        25       4       881251955   \n",
       "4      196       382       4       881251843   \n",
       "\n",
       "                                               title    release_date  \\\n",
       "0                                       Kolya (1996)  b'24-Jan-1997'   \n",
       "1                                Men in Black (1997)  b'04-Jul-1997'   \n",
       "2                Truth About Cats & Dogs, The (1996)  b'26-Apr-1996'   \n",
       "3                               Birdcage, The (1996)  b'08-Mar-1996'   \n",
       "4  Adventures of Priscilla, Queen of the Desert, ...  b'01-Jan-1994'   \n",
       "\n",
       "   video_release_date                                           imdb_url  age  \\\n",
       "0                 NaN  b'http://us.imdb.com/M/title-exact?Kolya%20(19...   49   \n",
       "1                 NaN  b'http://us.imdb.com/M/title-exact?Men+in+Blac...   49   \n",
       "2                 NaN  b'http://us.imdb.com/M/title-exact?Truth%20Abo...   49   \n",
       "3                 NaN  b'http://us.imdb.com/M/title-exact?Birdcage,%2...   49   \n",
       "4                 NaN  b'http://us.imdb.com/M/title-exact?Adventures%...   49   \n",
       "\n",
       "  sex occupation zip_code  \n",
       "0   M     writer    55105  \n",
       "1   M     writer    55105  \n",
       "2   M     writer    55105  \n",
       "3   M     writer    55105  \n",
       "4   M     writer    55105  "
      ]
     },
     "execution_count": 19,
     "metadata": {},
     "output_type": "execute_result"
    }
   ],
   "source": [
    "user_movie_ratings.head()"
   ]
  },
  {
   "cell_type": "code",
   "execution_count": 20,
   "metadata": {},
   "outputs": [
    {
     "data": {
      "text/plain": [
       "user_id                    0\n",
       "movie_id                   0\n",
       "rating                     0\n",
       "unix_timestamp             0\n",
       "title                      0\n",
       "release_date               0\n",
       "video_release_date    100000\n",
       "imdb_url                   0\n",
       "age                        0\n",
       "sex                        0\n",
       "occupation                 0\n",
       "zip_code                   0\n",
       "dtype: int64"
      ]
     },
     "execution_count": 20,
     "metadata": {},
     "output_type": "execute_result"
    }
   ],
   "source": [
    "user_movie_ratings.isna().sum()"
   ]
  },
  {
   "cell_type": "code",
   "execution_count": 21,
   "metadata": {},
   "outputs": [],
   "source": [
    "user_movie_ratings = user_movie_ratings.drop(columns=['unix_timestamp', 'video_release_date', 'imdb_url'])\n",
    "\n",
    "# video_release_date - consists from NaN values, we can drop it\n",
    "# imdb_url - consists from links that are not useful, we can drop it\n",
    "# unix_timestamp - consists from unnecessary data, we can drop it"
   ]
  },
  {
   "cell_type": "code",
   "execution_count": 23,
   "metadata": {},
   "outputs": [
    {
     "data": {
      "text/html": [
       "<div>\n",
       "<style scoped>\n",
       "    .dataframe tbody tr th:only-of-type {\n",
       "        vertical-align: middle;\n",
       "    }\n",
       "\n",
       "    .dataframe tbody tr th {\n",
       "        vertical-align: top;\n",
       "    }\n",
       "\n",
       "    .dataframe thead th {\n",
       "        text-align: right;\n",
       "    }\n",
       "</style>\n",
       "<table border=\"1\" class=\"dataframe\">\n",
       "  <thead>\n",
       "    <tr style=\"text-align: right;\">\n",
       "      <th></th>\n",
       "      <th>user_id</th>\n",
       "      <th>movie_id</th>\n",
       "      <th>rating</th>\n",
       "      <th>title</th>\n",
       "      <th>release_date</th>\n",
       "      <th>age</th>\n",
       "      <th>sex</th>\n",
       "      <th>occupation</th>\n",
       "      <th>zip_code</th>\n",
       "    </tr>\n",
       "  </thead>\n",
       "  <tbody>\n",
       "    <tr>\n",
       "      <th>0</th>\n",
       "      <td>196</td>\n",
       "      <td>242</td>\n",
       "      <td>3</td>\n",
       "      <td>Kolya (1996)</td>\n",
       "      <td>b'24-Jan-1997'</td>\n",
       "      <td>49</td>\n",
       "      <td>M</td>\n",
       "      <td>writer</td>\n",
       "      <td>55105</td>\n",
       "    </tr>\n",
       "    <tr>\n",
       "      <th>1</th>\n",
       "      <td>196</td>\n",
       "      <td>257</td>\n",
       "      <td>2</td>\n",
       "      <td>Men in Black (1997)</td>\n",
       "      <td>b'04-Jul-1997'</td>\n",
       "      <td>49</td>\n",
       "      <td>M</td>\n",
       "      <td>writer</td>\n",
       "      <td>55105</td>\n",
       "    </tr>\n",
       "    <tr>\n",
       "      <th>2</th>\n",
       "      <td>196</td>\n",
       "      <td>111</td>\n",
       "      <td>4</td>\n",
       "      <td>Truth About Cats &amp; Dogs, The (1996)</td>\n",
       "      <td>b'26-Apr-1996'</td>\n",
       "      <td>49</td>\n",
       "      <td>M</td>\n",
       "      <td>writer</td>\n",
       "      <td>55105</td>\n",
       "    </tr>\n",
       "    <tr>\n",
       "      <th>3</th>\n",
       "      <td>196</td>\n",
       "      <td>25</td>\n",
       "      <td>4</td>\n",
       "      <td>Birdcage, The (1996)</td>\n",
       "      <td>b'08-Mar-1996'</td>\n",
       "      <td>49</td>\n",
       "      <td>M</td>\n",
       "      <td>writer</td>\n",
       "      <td>55105</td>\n",
       "    </tr>\n",
       "    <tr>\n",
       "      <th>4</th>\n",
       "      <td>196</td>\n",
       "      <td>382</td>\n",
       "      <td>4</td>\n",
       "      <td>Adventures of Priscilla, Queen of the Desert, ...</td>\n",
       "      <td>b'01-Jan-1994'</td>\n",
       "      <td>49</td>\n",
       "      <td>M</td>\n",
       "      <td>writer</td>\n",
       "      <td>55105</td>\n",
       "    </tr>\n",
       "  </tbody>\n",
       "</table>\n",
       "</div>"
      ],
      "text/plain": [
       "   user_id  movie_id  rating  \\\n",
       "0      196       242       3   \n",
       "1      196       257       2   \n",
       "2      196       111       4   \n",
       "3      196        25       4   \n",
       "4      196       382       4   \n",
       "\n",
       "                                               title    release_date  age sex  \\\n",
       "0                                       Kolya (1996)  b'24-Jan-1997'   49   M   \n",
       "1                                Men in Black (1997)  b'04-Jul-1997'   49   M   \n",
       "2                Truth About Cats & Dogs, The (1996)  b'26-Apr-1996'   49   M   \n",
       "3                               Birdcage, The (1996)  b'08-Mar-1996'   49   M   \n",
       "4  Adventures of Priscilla, Queen of the Desert, ...  b'01-Jan-1994'   49   M   \n",
       "\n",
       "  occupation zip_code  \n",
       "0     writer    55105  \n",
       "1     writer    55105  \n",
       "2     writer    55105  \n",
       "3     writer    55105  \n",
       "4     writer    55105  "
      ]
     },
     "execution_count": 23,
     "metadata": {},
     "output_type": "execute_result"
    }
   ],
   "source": [
    "user_movie_ratings.head()"
   ]
  },
  {
   "cell_type": "code",
   "execution_count": 25,
   "metadata": {},
   "outputs": [
    {
     "name": "stdout",
     "output_type": "stream",
     "text": [
      "<class 'pandas.core.frame.DataFrame'>\n",
      "Int64Index: 100000 entries, 0 to 99999\n",
      "Data columns (total 9 columns):\n",
      " #   Column        Non-Null Count   Dtype \n",
      "---  ------        --------------   ----- \n",
      " 0   user_id       100000 non-null  int64 \n",
      " 1   movie_id      100000 non-null  int64 \n",
      " 2   rating        100000 non-null  int64 \n",
      " 3   title         100000 non-null  object\n",
      " 4   release_date  100000 non-null  object\n",
      " 5   age           100000 non-null  int64 \n",
      " 6   sex           100000 non-null  object\n",
      " 7   occupation    100000 non-null  object\n",
      " 8   zip_code      100000 non-null  object\n",
      "dtypes: int64(4), object(5)\n",
      "memory usage: 7.6+ MB\n"
     ]
    }
   ],
   "source": [
    "user_movie_ratings.info()"
   ]
  },
  {
   "cell_type": "markdown",
   "metadata": {},
   "source": [
    "-------------------------------------------------\n",
    "\n",
    "## 3. Some data analysis\n",
    "Let's answer some questions regarding our data. \n",
    "\n",
    "Mainly:\n",
    "* Which age group watches movies the most?\n",
    "* What people(occupation-wise) watch movies?\n",
    "* How ratings differ considering the gender of a person?\n",
    "* What are the top 10 rated movies?\n",
    "* Where are users from(top 10)?\n",
    "\n",
    "------------------------------------------------------"
   ]
  },
  {
   "cell_type": "code",
   "execution_count": 38,
   "metadata": {},
   "outputs": [
    {
     "data": {
      "text/html": [
       "<div>\n",
       "<style scoped>\n",
       "    .dataframe tbody tr th:only-of-type {\n",
       "        vertical-align: middle;\n",
       "    }\n",
       "\n",
       "    .dataframe tbody tr th {\n",
       "        vertical-align: top;\n",
       "    }\n",
       "\n",
       "    .dataframe thead th {\n",
       "        text-align: right;\n",
       "    }\n",
       "</style>\n",
       "<table border=\"1\" class=\"dataframe\">\n",
       "  <thead>\n",
       "    <tr style=\"text-align: right;\">\n",
       "      <th></th>\n",
       "      <th>user_id</th>\n",
       "      <th>age</th>\n",
       "      <th>sex</th>\n",
       "      <th>occupation</th>\n",
       "      <th>zip_code</th>\n",
       "      <th>age_group</th>\n",
       "    </tr>\n",
       "  </thead>\n",
       "  <tbody>\n",
       "    <tr>\n",
       "      <th>765</th>\n",
       "      <td>766</td>\n",
       "      <td>42</td>\n",
       "      <td>M</td>\n",
       "      <td>other</td>\n",
       "      <td>10960</td>\n",
       "      <td>Midlife</td>\n",
       "    </tr>\n",
       "    <tr>\n",
       "      <th>617</th>\n",
       "      <td>618</td>\n",
       "      <td>15</td>\n",
       "      <td>F</td>\n",
       "      <td>student</td>\n",
       "      <td>44212</td>\n",
       "      <td>Teenager</td>\n",
       "    </tr>\n",
       "    <tr>\n",
       "      <th>178</th>\n",
       "      <td>179</td>\n",
       "      <td>15</td>\n",
       "      <td>M</td>\n",
       "      <td>entertainment</td>\n",
       "      <td>20755</td>\n",
       "      <td>Teenager</td>\n",
       "    </tr>\n",
       "    <tr>\n",
       "      <th>114</th>\n",
       "      <td>115</td>\n",
       "      <td>31</td>\n",
       "      <td>M</td>\n",
       "      <td>engineer</td>\n",
       "      <td>17110</td>\n",
       "      <td>Young</td>\n",
       "    </tr>\n",
       "    <tr>\n",
       "      <th>736</th>\n",
       "      <td>737</td>\n",
       "      <td>30</td>\n",
       "      <td>M</td>\n",
       "      <td>programmer</td>\n",
       "      <td>98072</td>\n",
       "      <td>Young</td>\n",
       "    </tr>\n",
       "  </tbody>\n",
       "</table>\n",
       "</div>"
      ],
      "text/plain": [
       "     user_id  age sex     occupation zip_code age_group\n",
       "765      766   42   M          other    10960   Midlife\n",
       "617      618   15   F        student    44212  Teenager\n",
       "178      179   15   M  entertainment    20755  Teenager\n",
       "114      115   31   M       engineer    17110     Young\n",
       "736      737   30   M     programmer    98072     Young"
      ]
     },
     "execution_count": 38,
     "metadata": {},
     "output_type": "execute_result"
    }
   ],
   "source": [
    "users['age_group'] = users.age.apply(lambda age: 'Gradeschooler' if 5<=age<=12 else ('Teenager' if 13<=age<=19 else ('Young' if 20<=age<=35 else ('Midlife' if 35<=age<=55 else 'Old'))))\n",
    "users.sample(5)"
   ]
  },
  {
   "cell_type": "code",
   "execution_count": 39,
   "metadata": {},
   "outputs": [
    {
     "data": {
      "text/plain": [
       "Text(0.5, 1.0, 'movie watchers age_group wise')"
      ]
     },
     "execution_count": 39,
     "metadata": {},
     "output_type": "execute_result"
    },
    {
     "data": {
      "image/png": "[encoded data removed]",
      "text/plain": [
       "<Figure size 900x600 with 1 Axes>"
      ]
     },
     "metadata": {},
     "output_type": "display_data"
    }
   ],
   "source": [
    "plt.figure(figsize=(9,6))\n",
    "sns.barplot(users.groupby('age_group').size().index)\n",
    "plt.title('movie watchers age_group wise')"
   ]
  },
  {
   "cell_type": "markdown",
   "metadata": {},
   "source": [
    "<span style=\"color:cyan\">Which age group watches movies the most?</span>\n",
    "\n",
    "Graph shows that relatively young people, under 35 to 13 watch and rate movies, so big portion of ratings come from this group\n"
   ]
  },
  {
   "cell_type": "code",
   "execution_count": 49,
   "metadata": {},
   "outputs": [
    {
     "data": {
      "text/plain": [
       "Text(0.5, 1.0, 'movie watchers occupation wise')"
      ]
     },
     "execution_count": 49,
     "metadata": {},
     "output_type": "execute_result"
    },
    {
     "data": {
      "image/png": "[encoded data removed]",
      "text/plain": [
       "<Figure size 1200x700 with 1 Axes>"
      ]
     },
     "metadata": {},
     "output_type": "display_data"
    }
   ],
   "source": [
    "plt.figure(figsize=(12,7))\n",
    "occupantion = users.groupby('occupation').size().sort_values(ascending=True)\n",
    "sns.barplot(occupantion.index.values)\n",
    "plt.title('movie watchers occupation wise')"
   ]
  },
  {
   "cell_type": "markdown",
   "metadata": {},
   "source": [
    "<span style=\"color:cyan\">What people(occupation-wise) watch movies?</span>\n",
    "\n",
    "Relatively to first question we can see that majority of users are students"
   ]
  },
  {
   "cell_type": "code",
   "execution_count": 54,
   "metadata": {},
   "outputs": [
    {
     "data": {
      "image/png": "[encoded data removed]",
      "text/plain": [
       "<Figure size 1000x500 with 1 Axes>"
      ]
     },
     "metadata": {},
     "output_type": "display_data"
    }
   ],
   "source": [
    "temp_df = user_movie_ratings.groupby(['sex', 'rating']).size()\n",
    "plt.figure(figsize=(10, 5))\n",
    "m_temp_df = temp_df.M.sort_values(ascending=False)\n",
    "f_temp_df = temp_df.F.sort_values(ascending=False)\n",
    "\n",
    "plt.bar(x=m_temp_df.index, height=m_temp_df.values, label=\"Male\", align=\"edge\", width=0.3, color='blue')\n",
    "plt.bar(x=f_temp_df.index, height=f_temp_df.values, label=\"Female\", width=0.3, color='pink')\n",
    "plt.title('Ratings given by Male/Female Viewers')\n",
    "plt.legend()\n",
    "plt.xlabel('Ratings')\n",
    "plt.ylabel('Count')\n",
    "plt.show()"
   ]
  },
  {
   "cell_type": "markdown",
   "metadata": {},
   "source": [
    "<span style=\"color:cyan\">How ratings differ considering the gender of a person?</span>\n",
    "\n",
    "Much of the ratings were given by Males, compared to Females"
   ]
  },
  {
   "cell_type": "code",
   "execution_count": 64,
   "metadata": {},
   "outputs": [],
   "source": [
    "def draw_bar(titles, ratings_count, title=''):\n",
    "    plt.figure(figsize=(12, 7))\n",
    "    sns.barplot(y=titles, x=ratings_count, orient='h')\n",
    "    plt.title(title)\n",
    "    plt.ylabel('Movies')\n",
    "    plt.xlabel('Count')\n",
    "    plt.show()"
   ]
  },
  {
   "cell_type": "code",
   "execution_count": 71,
   "metadata": {},
   "outputs": [
    {
     "data": {
      "image/png": "[encoded data removed]",
      "text/plain": [
       "<Figure size 1200x700 with 1 Axes>"
      ]
     },
     "metadata": {},
     "output_type": "display_data"
    }
   ],
   "source": [
    "top_ten_rated_movies = user_movie_ratings.groupby('movie_id').size().sort_values(ascending=False)[:10]\n",
    "top_ten_movie_titles = movies.iloc[top_ten_rated_movies.index]['title']\n",
    "\n",
    "draw_bar(top_ten_movie_titles.values, top_ten_rated_movies.values, 'Top 10 Rated movies')\n"
   ]
  },
  {
   "cell_type": "markdown",
   "metadata": {},
   "source": [
    "<span style=\"color:cyan\">What are the top 10 rated movies?</span>\n",
    "\n",
    "There we can see top-rated movies"
   ]
  },
  {
   "cell_type": "code",
   "execution_count": 105,
   "metadata": {},
   "outputs": [
    {
     "name": "stdout",
     "output_type": "stream",
     "text": [
      "    zip_code State\n",
      "0      85711    AZ\n",
      "1      94043    CA\n",
      "2      32067    FL\n",
      "3      43537    OH\n",
      "4      15213    PA\n",
      "..       ...   ...\n",
      "938    33319    FL\n",
      "939    02215    MA\n",
      "940    97229    OR\n",
      "941    78209    TX\n",
      "942    77841    TX\n",
      "\n",
      "[943 rows x 2 columns]\n"
     ]
    }
   ],
   "source": [
    "# Convert zip code to states using SearchEngine\n",
    "\n",
    "data = users['zip_code']\n",
    "df = pd.DataFrame(data)\n",
    "\n",
    "def zip_to_state(zip_code):\n",
    "    search = SearchEngine()\n",
    "    result = search.by_zipcode(str(zip_code))\n",
    "    if result:\n",
    "        return result.state\n",
    "    else:\n",
    "        return None\n",
    "\n",
    "df['State'] = df['zip_code'].apply(zip_to_state)\n",
    "\n",
    "print(df)"
   ]
  },
  {
   "cell_type": "code",
   "execution_count": 107,
   "metadata": {},
   "outputs": [],
   "source": [
    "df['State'].fillna(value=df['State'].mode()[0], inplace=True) #Fill missing values with mode"
   ]
  },
  {
   "cell_type": "code",
   "execution_count": 109,
   "metadata": {},
   "outputs": [
    {
     "data": {
      "text/plain": [
       "Text(0.5, 1.0, 'movie watchers geographically wise')"
      ]
     },
     "execution_count": 109,
     "metadata": {},
     "output_type": "execute_result"
    },
    {
     "data": {
      "image/png": "[encoded data removed]",
      "text/plain": [
       "<Figure size 1200x700 with 1 Axes>"
      ]
     },
     "metadata": {},
     "output_type": "display_data"
    }
   ],
   "source": [
    "df = df.groupby('State').size().sort_values(ascending=False)[:10]\n",
    "\n",
    "plt.figure(figsize=(12, 7))\n",
    "sns.barplot(df)\n",
    "plt.title('movie watchers geographically wise')"
   ]
  },
  {
   "cell_type": "markdown",
   "metadata": {},
   "source": [
    "<span style=\"color:cyan\">Where are users from(top 10)?</span>\n",
    "\n",
    "There we can see the geospatial information regarding our users"
   ]
  },
  {
   "cell_type": "markdown",
   "metadata": {},
   "source": [
    "----------------------------------------\n",
    "\n",
    "## 4. Saving dataframe for future use"
   ]
  },
  {
   "cell_type": "code",
   "execution_count": 111,
   "metadata": {},
   "outputs": [],
   "source": [
    "user_movie_ratings.sample(10)\n",
    "user_movie_ratings.to_csv('../data/internim/user_movie_ratings.csv', index=False)"
   ]
  },
  {
   "cell_type": "code",
   "execution_count": 113,
   "metadata": {},
   "outputs": [],
   "source": [
    "movies.sample(10)\n",
    "movies.drop(columns=['video_release_date', 'imdb_url'], inplace=True)\n",
    "movies.to_csv('../data/internim/movies.csv', index=False)"
   ]
  },
  {
   "cell_type": "code",
   "execution_count": 115,
   "metadata": {},
   "outputs": [],
   "source": [
    "users.sample(10)\n",
    "users.drop(columns=['age_group'], inplace=True)\n",
    "users.to_csv('../data/internim/users.csv', index=False)"
   ]
  },
  {
   "cell_type": "code",
   "execution_count": 120,
   "metadata": {},
   "outputs": [],
   "source": [
    "ratings.sample(10)\n",
    "ratings.to_csv('../data/internim/ratings.csv', index=False)"
   ]
  },
  {
   "cell_type": "code",
   "execution_count": 122,
   "metadata": {},
   "outputs": [],
   "source": [
    "movie_ratings.sample(10)\n",
    "movie_ratings.drop(columns=['video_release_date', 'imdb_url', 'unix_timestamp'], inplace=True)\n",
    "movie_ratings.to_csv('../data/internim/movie_ratings.csv', index=False)"
   ]
  }
 ],
 "metadata": {
  "kernelspec": {
   "display_name": "Python 3",
   "language": "python",
   "name": "python3"
  },
  "language_info": {
   "codemirror_mode": {
    "name": "ipython",
    "version": 3
   },
   "file_extension": ".py",
   "mimetype": "text/x-python",
   "name": "python",
   "nbconvert_exporter": "python",
   "pygments_lexer": "ipython3",
   "version": "3.10.4"
  }
 },
 "nbformat": 4,
 "nbformat_minor": 2
}
